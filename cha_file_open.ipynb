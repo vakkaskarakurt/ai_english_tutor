{
 "cells": [
  {
   "cell_type": "code",
   "execution_count": null,
   "metadata": {},
   "outputs": [],
   "source": [
    "from datasets import load_dataset\n",
    "\n",
    "dataset = load_dataset(\"knkarthick/dialogsum\")"
   ]
  },
  {
   "cell_type": "code",
   "execution_count": null,
   "metadata": {},
   "outputs": [],
   "source": [
    "print(dataset['train'][0])"
   ]
  },
  {
   "cell_type": "code",
   "execution_count": null,
   "metadata": {},
   "outputs": [],
   "source": [
    "def extract_dialogues(dataset):\n",
    "    dialogues = []\n",
    "    for item in dataset:\n",
    "        dialogue = item['dialogue']\n",
    "        # İsterseniz bu kısımda giriş ve çıkışı daha detaylı işleyebilirsiniz\n",
    "        # Örneğin, giriş ve çıkışı \"dialogue\" ve \"summary\" alanlarından alabilirsiniz\n",
    "        dialogues.append(dialogue)\n",
    "    return dialogues\n",
    "\n",
    "\n",
    "# Dialogları ayıkla\n",
    "dialogues = extract_dialogues(dataset['train'])\n",
    "\n",
    "# Örnek çıktıları göster\n",
    "for dialogue in dialogues:\n",
    "    print(dialogue)\n",
    "x\n"
   ]
  }
 ],
 "metadata": {
  "kernelspec": {
   "display_name": "Python 3",
   "language": "python",
   "name": "python3"
  },
  "language_info": {
   "codemirror_mode": {
    "name": "ipython",
    "version": 3
   },
   "file_extension": ".py",
   "mimetype": "text/x-python",
   "name": "python",
   "nbconvert_exporter": "python",
   "pygments_lexer": "ipython3",
   "version": "3.11.4"
  }
 },
 "nbformat": 4,
 "nbformat_minor": 2
}
